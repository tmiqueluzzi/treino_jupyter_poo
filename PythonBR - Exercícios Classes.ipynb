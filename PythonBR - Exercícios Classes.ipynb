{
 "cells": [
  {
   "cell_type": "markdown",
   "id": "1c92bf7e",
   "metadata": {},
   "source": [
    "Classe Bola: Crie uma classe que modele uma bola:\n",
    "\n",
    "    Atributos: Cor, circunferência, material\n",
    "    Métodos: trocaCor e mostraCor "
   ]
  },
  {
   "cell_type": "code",
   "execution_count": 4,
   "id": "5e3d532d",
   "metadata": {},
   "outputs": [
    {
     "name": "stdout",
     "output_type": "stream",
     "text": [
      "A cor da bola é amarelo\n"
     ]
    }
   ],
   "source": [
    "class Bola:\n",
    "    def __init__(self, cor, circunf, material): \n",
    "        self.cor = cor\n",
    "        self.circunf = circunf\n",
    "        self.material = material\n",
    "        \n",
    "    def troca_cor(self, nova_cor):\n",
    "        self.cor = nova_cor\n",
    "        \n",
    "    def mostra_cor(self):\n",
    "        print(f'A cor da bola é {self.cor}')"
   ]
  },
  {
   "cell_type": "code",
   "execution_count": null,
   "id": "a1fe69c4",
   "metadata": {},
   "outputs": [],
   "source": [
    "Nike = Bola('amarelo', 20, 'couro')\n",
    "Nike.mostra_cor()"
   ]
  },
  {
   "cell_type": "markdown",
   "id": "a7afc3d5",
   "metadata": {},
   "source": [
    "Classe Quadrado: Crie uma classe que modele um quadrado:\n",
    "\n",
    "    Atributos: Tamanho do lado\n",
    "    Métodos: Mudar valor do Lado, Retornar valor do Lado e calcular Área; "
   ]
  },
  {
   "cell_type": "code",
   "execution_count": 7,
   "id": "90e66975",
   "metadata": {},
   "outputs": [],
   "source": [
    "class Quadrado:\n",
    "    def __init__(self, lado):\n",
    "        self.lado = lado\n",
    "        \n",
    "    def mudar_lado(self, novo_lado):\n",
    "        self.lado = novo_lado\n",
    "    \n",
    "    def mostrar_lado(self):\n",
    "        print(f'Lado = {self.lado}')\n",
    "        \n",
    "    def calcular_area(self):\n",
    "        print(f'Área = {self.lado**2}')"
   ]
  },
  {
   "cell_type": "code",
   "execution_count": 8,
   "id": "0310f2e3",
   "metadata": {},
   "outputs": [
    {
     "name": "stdout",
     "output_type": "stream",
     "text": [
      "Área = 9\n"
     ]
    }
   ],
   "source": [
    "quad = Quadrado(3)\n",
    "quad.calcular_area()"
   ]
  },
  {
   "cell_type": "markdown",
   "id": "8141b357",
   "metadata": {},
   "source": [
    "Classe Retangulo: Crie uma classe que modele um retangulo:\n",
    "\n",
    "    Atributos: LadoA, LadoB (ou Comprimento e Largura, ou Base e Altura, a escolher)\n",
    "    Métodos: Mudar valor dos lados, Retornar valor dos lados, calcular Área e calcular Perímetro;\n",
    "    Crie um programa que utilize esta classe. Ele deve pedir ao usuário que informe as medidades de um local. Depois, deve criar um objeto com as medidas e calcular a quantidade de pisos e de rodapés necessárias para o local. "
   ]
  },
  {
   "cell_type": "code",
   "execution_count": 13,
   "id": "7bae7a49",
   "metadata": {},
   "outputs": [],
   "source": [
    "class Retangulo:\n",
    "    def __init__(self, ladoA, ladoB):\n",
    "        self.ladoA = ladoA\n",
    "        self.ladoB = ladoB\n",
    "        self.perimetro = (ladoA+ladoB)*2\n",
    "        self.area = ladoA * ladoB\n",
    "        \n",
    "    def muda_ladoA(self, novo_lado):\n",
    "        self.ladoA = novo_lado\n",
    "    \n",
    "    def muda_ladoB(self, novo_lado):\n",
    "        self.ladoB = novo_lado\n",
    "    \n",
    "    def retorna_lados(self):\n",
    "        print(f'Lado A = {self.ladoA} / Lado B = {self.ladoB}')\n",
    "        \n",
    "    def calcula_area(self):\n",
    "        print(f'Área = {self.area}')\n",
    "    \n",
    "    def calcula_perimetro(self):\n",
    "        print(f'Perímetro = {self.perimetro}')\n",
    "        "
   ]
  },
  {
   "cell_type": "code",
   "execution_count": 14,
   "id": "58f90ed9",
   "metadata": {},
   "outputs": [
    {
     "name": "stdout",
     "output_type": "stream",
     "text": [
      "Bem vindo ao programa de cálculos de piso e rodapés. Insira os valores abaixo.\n",
      "Primeira dimensão da sala: 4\n",
      "Segunda dimensão da sala: 45\n",
      "Serão necessários 98.0 de rodapé, além de 180.0 de piso.\n"
     ]
    }
   ],
   "source": [
    "print('Bem vindo ao programa de cálculos de piso e rodapés. Insira os valores abaixo.')\n",
    "ladoA = float(input('Primeira dimensão da sala: '))\n",
    "ladoB = float(input('Segunda dimensão da sala: '))\n",
    "\n",
    "sala = Retangulo(ladoA, ladoB)\n",
    "print(f'Serão necessários {sala.perimetro} de rodapé, além de {sala.area} de piso.')"
   ]
  },
  {
   "cell_type": "markdown",
   "id": "8900a286",
   "metadata": {},
   "source": [
    "Classe Pessoa: Crie uma classe que modele uma pessoa:\n",
    "\n",
    "    Atributos: nome, idade, peso e altura\n",
    "    Métodos: Envelhercer, engordar, emagrecer, crescer. Obs: Por padrão, a cada ano que nossa pessoa envelhece, sendo a idade dela menor que 21 anos, ela deve crescer 0,5 cm. "
   ]
  },
  {
   "cell_type": "code",
   "execution_count": 1,
   "id": "402e51a7",
   "metadata": {},
   "outputs": [],
   "source": [
    "class Pessoa:\n",
    "    def __init__(self, nome, idade, peso, altura):\n",
    "        self.nome = nome\n",
    "        self.idade = idade\n",
    "        self.peso = peso\n",
    "        self.altura = altura\n",
    "        \n",
    "    def envelhecer(self, anos = 1):\n",
    "        if self.idade < 21:\n",
    "            if self.idade +anos > 21:\n",
    "                self.altura += 0.5 * (self.idade + anos - 21)\n",
    "            else:\n",
    "                self.altura += 0.5 * anos\n",
    "                self.idade += anos\n",
    "        else:\n",
    "            self.idade += anos\n",
    "    \n",
    "    def engordar(self, kg = 1):\n",
    "        if kg < 0:\n",
    "            print('Não é possível engordar negativo. Emagreça.')\n",
    "        else:\n",
    "            self.peso += kg\n",
    "    \n",
    "    def emagrecer(self, kg = 1):\n",
    "        if kg <0:\n",
    "            print('Não é possível emagrecer negativo. Engorde.')\n",
    "        else:\n",
    "            self.peso -= kg\n",
    "            \n",
    "    def crescer(self, cm = 1):\n",
    "        self.altura += cm"
   ]
  },
  {
   "cell_type": "code",
   "execution_count": 3,
   "id": "f565f5db",
   "metadata": {},
   "outputs": [
    {
     "data": {
      "text/plain": [
       "76"
      ]
     },
     "execution_count": 3,
     "metadata": {},
     "output_type": "execute_result"
    }
   ],
   "source": [
    "Theo = Pessoa('Theo', 27, 73, 1.74)\n",
    "Theo.engordar(3)\n",
    "Theo.peso"
   ]
  },
  {
   "cell_type": "markdown",
   "id": "fa8e117e",
   "metadata": {},
   "source": [
    "Classe Conta Corrente: Crie uma classe para implementar uma conta corrente. A classe deve possuir os seguintes atributos: número da conta, nome do correntista e saldo. Os métodos são os seguintes: alterarNome, depósito e saque; No construtor, saldo é opcional, com valor default zero e os demais atributos são obrigatórios. "
   ]
  },
  {
   "cell_type": "code",
   "execution_count": null,
   "id": "55310995",
   "metadata": {},
   "outputs": [],
   "source": [
    "class ContaCorrente:\n",
    "    def __init__(self, num_conta, nome_correntista, saldo = 0):\n",
    "        self.num_conta = num_conta\n",
    "        self.nome_correntista = nome_correntista\n",
    "        self.saldo = saldo\n",
    "        \n",
    "    def alterarNome(self, nome):\n",
    "        self.nome_correntista = nome\n",
    "    \n",
    "    def deposito(self, valor):\n",
    "        if valor < 0:\n",
    "            print('Não é possível depositar valores negativos.')\n",
    "        else: \n",
    "            self.saldo += valor\n",
    "    \n",
    "    def saque(self, valor):\n",
    "        if saque > saldo:\n",
    "            print(f'Seu saldo é de {self.saldo}. Impossível sacar {valor}.')\n",
    "        else:\n",
    "            self.saldo -= valor"
   ]
  },
  {
   "cell_type": "markdown",
   "id": "faf0cb1c",
   "metadata": {},
   "source": [
    "Classe TV: Faça um programa que simule um televisor criando-o como um objeto. O usuário deve ser capaz de informar o número do canal e aumentar ou diminuir o volume. Certifique-se de que o número do canal e o nível do volume permanecem dentro de faixas válidas. "
   ]
  },
  {
   "cell_type": "code",
   "execution_count": 6,
   "id": "f9e52153",
   "metadata": {},
   "outputs": [],
   "source": [
    "class TV:\n",
    "    def __init__(self, canal = 1, volume = 0):\n",
    "        self.canal = canal\n",
    "        self.volume = volume\n",
    "        \n",
    "    def muda_canal_especifico(self, canal):\n",
    "        if 0< canal < 100:\n",
    "            self.canal = canal\n",
    "    \n",
    "    def aumenta_canal(self, valor = 1):\n",
    "        if not self.canal + valor > 99:\n",
    "            self.canal += valor\n",
    "            \n",
    "    def diminui_canal(self, valor = 1):\n",
    "        if not self.canal - valor:\n",
    "            self.canal -= valor\n",
    "            \n",
    "    def mostra_canal(self):\n",
    "        print(self.canal)\n",
    "        \n",
    "    def aumenta_volume(self, valor = 1):\n",
    "        if not self.volume + valor > 100:\n",
    "            self.volume += valor\n",
    "            \n",
    "    def diminui_volume(self, valor = 1):\n",
    "        if not self.volume - valor < 0:\n",
    "            self.volume -= valor"
   ]
  },
  {
   "cell_type": "markdown",
   "id": "b93e4f63",
   "metadata": {},
   "source": [
    "Classe Bichinho Virtual:Crie uma classe que modele um Tamagushi (Bichinho Eletrônico):\n",
    "\n",
    "    Atributos: Nome, Fome, Saúde e Idade b. Métodos: Alterar Nome, Fome, Saúde e Idade; Retornar Nome, Fome, Saúde e Idade Obs: Existe mais uma informação que devemos levar em consideração, o Humor do nosso tamagushi, este humor é uma combinação entre os atributos Fome e Saúde, ou seja, um campo calculado, então não devemos criar um atributo para armazenar esta informação por que ela pode ser calculada a qualquer momento. "
   ]
  },
  {
   "cell_type": "code",
   "execution_count": null,
   "id": "90c41468",
   "metadata": {},
   "outputs": [],
   "source": [
    "class Tamagushi:\n",
    "    def __init__(self, nome, fome = 50, saude=50, idade=0):\n",
    "        self.nome = nome\n",
    "        self.fome = fome\n",
    "        self.saude = saude\n",
    "        self.idade = idade\n",
    "        self.humor = self.saude * self.fome\n",
    "    \n",
    "    def alterar_nome(self, novo_nome):\n",
    "        self.nome = novo_nome\n",
    "    \n",
    "    def alterar_fome(self, nova_fome):\n",
    "        self.fome = nova_fome\n",
    "    \n",
    "    def alterar_saude(self, nova_saude):\n",
    "        self.saude = nova_saude\n",
    "    \n",
    "    def alterar_idade(self, nova_idade):\n",
    "        self.idade = nova_idade\n",
    "    \n",
    "    def get_nome(self):\n",
    "        return self.nome\n",
    "    \n",
    "    def get_fome(self):\n",
    "        return self.fome\n",
    "    \n",
    "    def get_saude(self):\n",
    "        return self.saude\n",
    "    \n",
    "    def get_idade(self):\n",
    "        return self.idade"
   ]
  },
  {
   "cell_type": "markdown",
   "id": "15867337",
   "metadata": {},
   "source": [
    "Classe Macaco: \n",
    "Desenvolva uma classe Macaco, que possua os atributos nome e bucho (estomago) e pelo menos os métodos comer(), verBucho() e digerir(). \n",
    "\n",
    "Faça um programa ou teste interativamente, criando pelo menos dois macacos, alimentando-os com pelo menos 3 alimentos diferentes e verificando o conteúdo do estomago a cada refeição. Experimente fazer com que um macaco coma o outro. É possível criar um macaco canibal? "
   ]
  },
  {
   "cell_type": "code",
   "execution_count": 19,
   "id": "7f9de3f7",
   "metadata": {},
   "outputs": [],
   "source": [
    "class Macaco:\n",
    "    def __init__(self, nome, bucho = []):\n",
    "        self.nome = nome\n",
    "        self.bucho = bucho\n",
    "        \n",
    "    def comer(self, comida):\n",
    "        self.bucho.append(comida)\n",
    "    \n",
    "    def ver_bucho(self):\n",
    "        print(self.bucho)\n",
    "    \n",
    "    def digerir(self):\n",
    "        self.bucho = []"
   ]
  },
  {
   "cell_type": "code",
   "execution_count": 21,
   "id": "81b61650",
   "metadata": {},
   "outputs": [
    {
     "name": "stdout",
     "output_type": "stream",
     "text": [
      "Chita\n",
      "['Banana', 'Laranja', 'Maçã']\n",
      "Twelves\n",
      "['Banana', 'Laranja', 'Maçã']\n",
      "Zubumafu\n",
      "['Banana', 'Laranja', 'Maçã']\n",
      "['Banana', 'Laranja', 'Maçã', 'Twelves']\n"
     ]
    }
   ],
   "source": [
    "Chita = Macaco('Chita')\n",
    "Twelves = Macaco('Twelves')\n",
    "Zubumafu = Macaco('Zubumafu')\n",
    "\n",
    "macacos = [Chita, Twelves, Zubumafu]\n",
    "for macaco in macacos:\n",
    "    macaco.digerir()\n",
    "for macaco in macacos:\n",
    "    print(macaco.nome)\n",
    "    macaco.comer('Banana')\n",
    "    macaco.comer('Laranja')\n",
    "    macaco.comer('Maçã')\n",
    "    macaco.ver_bucho()\n",
    "\n",
    "Chita.comer(Twelves.nome)\n",
    "Chita.ver_bucho()"
   ]
  },
  {
   "cell_type": "markdown",
   "id": "f50c19c6",
   "metadata": {},
   "source": [
    "Classe Ponto e Retangulo: Faça um programa completo utilizando funções e classes que:\n",
    "\n",
    "    Possua uma classe chamada Ponto, com os atributos x e y.\n",
    "    Possua uma classe chamada Retangulo, com os atributos largura e altura.\n",
    "    Possua uma função para imprimir os valores da classe Ponto\n",
    "    Possua uma função para encontrar o centro de um Retângulo.\n",
    "    Você deve criar alguns objetos da classe Retangulo.\n",
    "    Cada objeto deve ter um vértice de partida, por exemplo, o vértice inferior esquerdo do retângulo, que deve ser um objeto da classe Ponto.\n",
    "    A função para encontrar o centro do retângulo deve retornar o valor para um objeto do tipo ponto que indique os valores de x e y para o centro do objeto.\n",
    "    O valor do centro do objeto deve ser mostrado na tela\n",
    "    Crie um menu para alterar os valores do retângulo e imprimir o centro deste retângulo. "
   ]
  },
  {
   "cell_type": "code",
   "execution_count": 9,
   "id": "6fbb1070",
   "metadata": {},
   "outputs": [],
   "source": [
    "class Ponto:\n",
    "    def __init__(self, x=0, y=0):\n",
    "        self.x = x\n",
    "        self.y = y\n",
    "    \n",
    "    def imprimir_valores(self):\n",
    "        print(f'x = {self.x} / y = {self.y}')\n",
    "    \n",
    "\n",
    "class Retangulo:\n",
    "    def __init__(self, largura, altura, ponto_in = Ponto(0,0)):\n",
    "        while largura <= 0:\n",
    "            largura = input('Insira valor maior que zero.')\n",
    "        self.largura = largura\n",
    "        while altura <= 0:\n",
    "            altura = input('Insura valor maior que zero.')\n",
    "        self.altura = altura\n",
    "        self.x_in = ponto_in.x\n",
    "        self.y_in = ponto_in.y\n",
    "        \n",
    "    def centro_ret(self):\n",
    "        centro_alt = self.altura/2 + self.y_in\n",
    "        centro_larg = self.largura/2 + self.x_in\n",
    "        return Ponto(centro_larg, centro_alt)\n",
    "\n",
    "    def muda_altura(self, nova_alt):\n",
    "        self.altura = nota_alt\n",
    "    \n",
    "    def muda_larg(self, nova_larg):\n",
    "        self.largura = nova_larg\n",
    "        \n",
    "    def muda_inicio(self, novoPonto):\n",
    "        self.x_in = novoPonto.x\n",
    "        self.y_in = novoPonto.y    "
   ]
  },
  {
   "cell_type": "code",
   "execution_count": 21,
   "id": "cdffaca9",
   "metadata": {},
   "outputs": [],
   "source": [
    "def Menu(Retangulo):\n",
    "    escolha = int(input('''    ~~~~~~~~~~\n",
    "    Bem vindo ao menu dos retângulos. Escolha sua opção:\n",
    "    0 - Encerra\n",
    "    1 - Mostra valor dos vértice inferior esquerdo do retângulo\n",
    "    2 - Mostra altura e largura do retângulo\n",
    "    3 - Mostra o centro do retângulo\n",
    "    4 - Modifica a altura do retângulo\n",
    "    5 - Modifica a largura do retângulo\n",
    "    6 - Modifica o valor do vértice inferior esquerdo\n",
    "    ~~~~~~~~~~~\n",
    "'''))\n",
    "    if escolha == 0:\n",
    "        print('Fim do programa.')\n",
    "        return 'BREAK'\n",
    "    elif escolha == 1:\n",
    "        print(f'X = {Retangulo.x_in} ; Y = {Retangulo.y_in}')\n",
    "    elif escolha == 2:\n",
    "        print(f'Altura = {Retangulo.altura} ; Largura {Retangulo.largura}')\n",
    "    elif escolha ==3:\n",
    "        print(f'X = {Retangulo.centro_ret().x} ; Y = {Retangulo.centro_ret().y}')\n",
    "    elif escolha == 4:\n",
    "        Retangulo.muda_altura(int(input('Novo valor: ')))\n",
    "    elif escolha == 5:\n",
    "        Retangulo.muda_largura(int(input('Novo valor: ')))\n",
    "    elif escolha == 6:\n",
    "        Retangulo.muda_inicio(Ponto(input('X: '), input('Y: ')))"
   ]
  },
  {
   "cell_type": "code",
   "execution_count": 23,
   "id": "2f440bea",
   "metadata": {},
   "outputs": [],
   "source": [
    "ret1 = Retangulo(2, 4)\n",
    "ret2 = Retangulo(9, 15)\n",
    "ret3 = Retangulo(10, 3)\n",
    "retangulos = [ret1, ret2, ret3]"
   ]
  },
  {
   "cell_type": "code",
   "execution_count": 22,
   "id": "8a69bc27",
   "metadata": {},
   "outputs": [
    {
     "name": "stdout",
     "output_type": "stream",
     "text": [
      "    ~~~~~~~~~~\n",
      "    Bem vindo ao menu dos retângulos. Escolha sua opção:\n",
      "    0 - Encerra\n",
      "    1 - Mostra valor dos vértice inferior esquerdo do retângulo\n",
      "    2 - Mostra altura e largura do retângulo\n",
      "    3 - Mostra o centro do retângulo\n",
      "    4 - Modifica a altura do retângulo\n",
      "    5 - Modifica a largura do retângulo\n",
      "    6 - Modifica o valor do vértice inferior esquerdo\n",
      "    ~~~~~~~~~~~\n",
      "2\n",
      "Altura = 4 ; Largura 2\n",
      "    ~~~~~~~~~~\n",
      "    Bem vindo ao menu dos retângulos. Escolha sua opção:\n",
      "    0 - Encerra\n",
      "    1 - Mostra valor dos vértice inferior esquerdo do retângulo\n",
      "    2 - Mostra altura e largura do retângulo\n",
      "    3 - Mostra o centro do retângulo\n",
      "    4 - Modifica a altura do retângulo\n",
      "    5 - Modifica a largura do retângulo\n",
      "    6 - Modifica o valor do vértice inferior esquerdo\n",
      "    ~~~~~~~~~~~\n",
      "0\n"
     ]
    }
   ],
   "source": [
    "while True:\n",
    "    if Menu(ret) == 'BREAK':\n",
    "        break"
   ]
  },
  {
   "cell_type": "markdown",
   "id": "908314be",
   "metadata": {},
   "source": [
    "Classe Bomba de Combustível: Faça um programa completo utilizando classes e métodos que:\n",
    "\n",
    "    Possua uma classe chamada bombaCombustível, com no mínimo esses atributos:\n",
    "        tipoCombustivel.\n",
    "        valorLitro\n",
    "        quantidadeCombustivel \n",
    "    Possua no mínimo esses métodos:\n",
    "        abastecerPorValor( ) – método onde é informado o valor a ser abastecido e mostra a quantidade de litros que foi colocada no veículo\n",
    "        abastecerPorLitro( ) – método onde é informado a quantidade em litros de combustível e mostra o valor a ser pago pelo cliente.\n",
    "        alterarValor( ) – altera o valor do litro do combustível.\n",
    "        alterarCombustivel( ) – altera o tipo do combustível.\n",
    "        alterarQuantidadeCombustivel( ) – altera a quantidade de combustível restante na bomba. \n",
    "    OBS: Sempre que acontecer um abastecimento é necessário atualizar a quantidade de combustível total na bomba. "
   ]
  },
  {
   "cell_type": "code",
   "execution_count": 24,
   "id": "9ead41b5",
   "metadata": {},
   "outputs": [],
   "source": [
    "class Bomba:\n",
    "    def __init__(self, tipoCombustivel = 'Gasolina', valorLitro = 5.49, qtddCombustivel = 200):\n",
    "        self.tipoCombustivel = tipoCombustivel\n",
    "        self.valorLitro = valorLitro\n",
    "        self.qtddCombustivel = qtddCombustivel\n",
    "    \n",
    "    def abastecer_por_valor(self, dinheiros):\n",
    "        self.qtddCombustivel -= dinheiros / self.valorLitro\n",
    "        print(f'Foram abastecidos {dinheiros/self.valorLitro} litros.')\n",
    "    \n",
    "    def abastecer_por_litro(self, litros):\n",
    "        reais = litros * self.valorLitro\n",
    "        self.qtddCombustivel -= litros\n",
    "        print(f'Valor a ser pago: R$ {reais}.')\n",
    "    \n",
    "    def alterar_valor(self, novo_valor):\n",
    "        self.valorLitro = novo_valor\n",
    "    \n",
    "    def alterar_combustivel(self, novo_comb):\n",
    "        self.tipoCombustivel = novo_comb\n",
    "    \n",
    "    def alterar_qtdd_combustivel(self, nova_qtdd):\n",
    "        self.qtddCombustivel = nova_qtdd"
   ]
  },
  {
   "cell_type": "markdown",
   "id": "016d11d4",
   "metadata": {},
   "source": [
    "Classe carro: Implemente uma classe chamada Carro com as seguintes propriedades:\n",
    "\n",
    "    Um veículo tem um certo consumo de combustível (medidos em km / litro) e uma certa quantidade de combustível no tanque.\n",
    "    O consumo é especificado no construtor e o nível de combustível inicial é 0.\n",
    "    Forneça um método andar( ) que simule o ato de dirigir o veículo por uma certa distância, reduzindo o nível de combustível no tanque de gasolina.\n",
    "    Forneça um método obterGasolina( ), que retorna o nível atual de combustível.\n",
    "    Forneça um método adicionarGasolina( ), para abastecer o tanque. "
   ]
  },
  {
   "cell_type": "code",
   "execution_count": 2,
   "id": "99f769c6",
   "metadata": {},
   "outputs": [
    {
     "data": {
      "text/plain": [
       "9.0"
      ]
     },
     "execution_count": 2,
     "metadata": {},
     "output_type": "execute_result"
    }
   ],
   "source": [
    "class Carro:\n",
    "    def __init__(self, consumo, kmetragem = 0):\n",
    "        self.consumo = consumo\n",
    "        self.qtdd_comb = 0\n",
    "        self.kmetragem = kmetragem\n",
    "    \n",
    "    def obter_gasolina(self):\n",
    "        return self.qtdd_comb\n",
    "    \n",
    "    def adicionar_gasolina(self, gasolina):\n",
    "        self.qtdd_comb += gasolina\n",
    "    \n",
    "    def andar(self, distancia):\n",
    "        self.kmetragem += distancia\n",
    "        self.qtdd_comb -= distancia/self.consumo\n",
    "    \n",
    "Fit = Carro(10)\n",
    "Fit.adicionar_gasolina(10)\n",
    "Fit.obter_gasolina()\n",
    "Fit.andar(10)\n",
    "Fit.obter_gasolina()"
   ]
  },
  {
   "cell_type": "markdown",
   "id": "ad98e985",
   "metadata": {},
   "source": [
    "Classe Conta de Investimento: \n",
    "\n",
    "    Faça uma classe contaInvestimento que seja semelhante a classe contaBancaria, com a diferença de que se adicione um atributo taxaJuros. \n",
    "    \n",
    "    Forneça um construtor que configure tanto o saldo inicial como a taxa de juros. \n",
    "    \n",
    "    Forneça um método adicioneJuros (sem parâmetro explícito) que adicione juros à conta. \n",
    "    \n",
    "    Escreva um programa que construa uma poupança com um saldo inicial de R$1000,00 e uma taxa de juros de 10%. \n",
    "    \n",
    "    Depois aplique o método adicioneJuros() cinco vezes e imprime o saldo resultante. "
   ]
  },
  {
   "cell_type": "code",
   "execution_count": 3,
   "id": "3490d5bf",
   "metadata": {},
   "outputs": [],
   "source": [
    "class ContaCorrente:\n",
    "    def __init__(self, num_conta, nome_correntista, saldo = 0):\n",
    "        self.num_conta = num_conta\n",
    "        self.nome_correntista = nome_correntista\n",
    "        self.saldo = saldo\n",
    "        \n",
    "    def alterarNome(self, nome):\n",
    "        self.nome_correntista = nome\n",
    "    \n",
    "    def deposito(self, valor):\n",
    "        if valor < 0:\n",
    "            print('Não é possível depositar valores negativos.')\n",
    "        else:\n",
    "            self.saldo += valor\n",
    "    \n",
    "    def saque(self, valor):\n",
    "        if saque > saldo:\n",
    "            print(f'Seu saldo é de {self.saldo}. Impossível sacar {valor}.')\n",
    "        else:\n",
    "            self.saldo -= valor"
   ]
  },
  {
   "cell_type": "code",
   "execution_count": 5,
   "id": "69777b00",
   "metadata": {},
   "outputs": [
    {
     "name": "stdout",
     "output_type": "stream",
     "text": [
      "10000\n",
      "11000.0\n",
      "12100.000000000002\n",
      "13310.000000000004\n",
      "14641.000000000005\n",
      "16105.100000000008\n"
     ]
    }
   ],
   "source": [
    "class ContaInvestimento(ContaCorrente):\n",
    "    def __init__(self, num_conta, nome_correntista, saldo = 0, taxa_juros = 1):\n",
    "        self.num_conta = num_conta\n",
    "        self.nome_correntista = nome_correntista\n",
    "        self.saldo = saldo\n",
    "        self.taxa_juros = taxa_juros\n",
    "        \n",
    "    def adiciona_juro(self):\n",
    "        self.saldo *= (self.taxa_juros/100 + 1)\n",
    "\n",
    "Theo = ContaInvestimento(101, 'Theo G M', saldo = 10_000, taxa_juros = 10)\n",
    "print(Theo.saldo)\n",
    "for x in range(5):\n",
    "    Theo.adiciona_juro()\n",
    "    print(Theo.saldo)"
   ]
  },
  {
   "cell_type": "markdown",
   "id": "5dbf7c72",
   "metadata": {},
   "source": [
    "Classe Funcionário: Implemente a classe Funcionário. Um empregado tem um nome (um string) e um salário(um double). Escreva um construtor com dois parâmetros (nome e salário) e métodos para devolver nome e salário. Escreva um pequeno programa que teste sua classe. "
   ]
  },
  {
   "cell_type": "code",
   "execution_count": 7,
   "id": "a783ea2b",
   "metadata": {},
   "outputs": [],
   "source": [
    "class Funcionario:\n",
    "    def __init__(self, nome, salario):\n",
    "        self.nome = nome\n",
    "        self.salario = salario\n",
    "    \n",
    "    def get_nome(self):\n",
    "        return self.nome\n",
    "    \n",
    "    def get_salario(self):\n",
    "        return self.salario"
   ]
  },
  {
   "cell_type": "code",
   "execution_count": 8,
   "id": "f9ae9b4b",
   "metadata": {},
   "outputs": [
    {
     "name": "stdout",
     "output_type": "stream",
     "text": [
      "3900\n"
     ]
    }
   ],
   "source": [
    "Theo = Funcionario('Theo', 3900)\n",
    "print(Theo.get_salario())"
   ]
  },
  {
   "cell_type": "markdown",
   "id": "22d20423",
   "metadata": {},
   "source": [
    "Aprimore a classe do exercício anterior para adicionar o método aumentarSalario (porcentualDeAumento) que aumente o salário do funcionário em uma certa porcentagem. "
   ]
  },
  {
   "cell_type": "code",
   "execution_count": 10,
   "id": "946d27c2",
   "metadata": {},
   "outputs": [],
   "source": [
    "class Funcionario:\n",
    "    def __init__(self, nome, salario):\n",
    "        self.nome = nome\n",
    "        self.salario = salario\n",
    "    \n",
    "    def get_nome(self):\n",
    "        return self.nome\n",
    "    \n",
    "    def get_salario(self):\n",
    "        return self.salario\n",
    "    \n",
    "    def aumentar_salario(self, porcentual):\n",
    "        self.salario *= porcentual/100 + 1"
   ]
  },
  {
   "cell_type": "code",
   "execution_count": 11,
   "id": "55a66e93",
   "metadata": {},
   "outputs": [
    {
     "name": "stdout",
     "output_type": "stream",
     "text": [
      "4680.0\n"
     ]
    }
   ],
   "source": [
    "Theo = Funcionario('Theo', 3900)\n",
    "Theo.aumentar_salario(20)\n",
    "print(Theo.get_salario())"
   ]
  }
 ],
 "metadata": {
  "kernelspec": {
   "display_name": "Python 3 (ipykernel)",
   "language": "python",
   "name": "python3"
  },
  "language_info": {
   "codemirror_mode": {
    "name": "ipython",
    "version": 3
   },
   "file_extension": ".py",
   "mimetype": "text/x-python",
   "name": "python",
   "nbconvert_exporter": "python",
   "pygments_lexer": "ipython3",
   "version": "3.11.5"
  }
 },
 "nbformat": 4,
 "nbformat_minor": 5
}
