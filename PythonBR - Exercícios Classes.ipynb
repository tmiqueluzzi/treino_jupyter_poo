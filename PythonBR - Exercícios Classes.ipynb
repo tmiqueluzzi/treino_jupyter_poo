{
 "cells": [
  {
   "cell_type": "markdown",
   "id": "1c92bf7e",
   "metadata": {},
   "source": [
    "Classe Bola: Crie uma classe que modele uma bola:\n",
    "\n",
    "    Atributos: Cor, circunferência, material\n",
    "    Métodos: trocaCor e mostraCor "
   ]
  },
  {
   "cell_type": "code",
   "execution_count": 4,
   "id": "5e3d532d",
   "metadata": {},
   "outputs": [
    {
     "name": "stdout",
     "output_type": "stream",
     "text": [
      "A cor da bola é amarelo\n"
     ]
    }
   ],
   "source": [
    "class Bola:\n",
    "    def __init__(self, cor, circunf, material): \n",
    "        self.cor = cor\n",
    "        self.circunf = circunf\n",
    "        self.material = material\n",
    "        \n",
    "    def troca_cor(self, nova_cor):\n",
    "        self.cor = nova_cor\n",
    "        \n",
    "    def mostra_cor(self):\n",
    "        print(f'A cor da bola é {self.cor}')"
   ]
  },
  {
   "cell_type": "code",
   "execution_count": null,
   "id": "a1fe69c4",
   "metadata": {},
   "outputs": [],
   "source": [
    "Nike = Bola('amarelo', 20, 'couro')\n",
    "Nike.mostra_cor()"
   ]
  },
  {
   "cell_type": "markdown",
   "id": "a7afc3d5",
   "metadata": {},
   "source": [
    "Classe Quadrado: Crie uma classe que modele um quadrado:\n",
    "\n",
    "    Atributos: Tamanho do lado\n",
    "    Métodos: Mudar valor do Lado, Retornar valor do Lado e calcular Área; "
   ]
  },
  {
   "cell_type": "code",
   "execution_count": 7,
   "id": "90e66975",
   "metadata": {},
   "outputs": [],
   "source": [
    "class Quadrado:\n",
    "    def __init__(self, lado):\n",
    "        self.lado = lado\n",
    "        \n",
    "    def mudar_lado(self, novo_lado):\n",
    "        self.lado = novo_lado\n",
    "    \n",
    "    def mostrar_lado(self):\n",
    "        print(f'Lado = {self.lado}')\n",
    "        \n",
    "    def calcular_area(self):\n",
    "        print(f'Área = {self.lado**2}')"
   ]
  },
  {
   "cell_type": "code",
   "execution_count": 8,
   "id": "0310f2e3",
   "metadata": {},
   "outputs": [
    {
     "name": "stdout",
     "output_type": "stream",
     "text": [
      "Área = 9\n"
     ]
    }
   ],
   "source": [
    "quad = Quadrado(3)\n",
    "quad.calcular_area()"
   ]
  },
  {
   "cell_type": "markdown",
   "id": "8141b357",
   "metadata": {},
   "source": [
    "Classe Retangulo: Crie uma classe que modele um retangulo:\n",
    "\n",
    "    Atributos: LadoA, LadoB (ou Comprimento e Largura, ou Base e Altura, a escolher)\n",
    "    Métodos: Mudar valor dos lados, Retornar valor dos lados, calcular Área e calcular Perímetro;\n",
    "    Crie um programa que utilize esta classe. Ele deve pedir ao usuário que informe as medidades de um local. Depois, deve criar um objeto com as medidas e calcular a quantidade de pisos e de rodapés necessárias para o local. "
   ]
  },
  {
   "cell_type": "code",
   "execution_count": 13,
   "id": "7bae7a49",
   "metadata": {},
   "outputs": [],
   "source": [
    "class Retangulo:\n",
    "    def __init__(self, ladoA, ladoB):\n",
    "        self.ladoA = ladoA\n",
    "        self.ladoB = ladoB\n",
    "        self.perimetro = (ladoA+ladoB)*2\n",
    "        self.area = ladoA * ladoB\n",
    "        \n",
    "    def muda_ladoA(self, novo_lado):\n",
    "        self.ladoA = novo_lado\n",
    "    \n",
    "    def muda_ladoB(self, novo_lado):\n",
    "        self.ladoB = novo_lado\n",
    "    \n",
    "    def retorna_lados(self):\n",
    "        print(f'Lado A = {self.ladoA} / Lado B = {self.ladoB}')\n",
    "        \n",
    "    def calcula_area(self):\n",
    "        print(f'Área = {self.area}')\n",
    "    \n",
    "    def calcula_perimetro(self):\n",
    "        print(f'Perímetro = {self.perimetro}')\n",
    "        "
   ]
  },
  {
   "cell_type": "code",
   "execution_count": 14,
   "id": "58f90ed9",
   "metadata": {},
   "outputs": [
    {
     "name": "stdout",
     "output_type": "stream",
     "text": [
      "Bem vindo ao programa de cálculos de piso e rodapés. Insira os valores abaixo.\n",
      "Primeira dimensão da sala: 4\n",
      "Segunda dimensão da sala: 45\n",
      "Serão necessários 98.0 de rodapé, além de 180.0 de piso.\n"
     ]
    }
   ],
   "source": [
    "print('Bem vindo ao programa de cálculos de piso e rodapés. Insira os valores abaixo.')\n",
    "ladoA = float(input('Primeira dimensão da sala: '))\n",
    "ladoB = float(input('Segunda dimensão da sala: '))\n",
    "\n",
    "sala = Retangulo(ladoA, ladoB)\n",
    "print(f'Serão necessários {sala.perimetro} de rodapé, além de {sala.area} de piso.')"
   ]
  },
  {
   "cell_type": "markdown",
   "id": "8900a286",
   "metadata": {},
   "source": [
    "Classe Pessoa: Crie uma classe que modele uma pessoa:\n",
    "\n",
    "    Atributos: nome, idade, peso e altura\n",
    "    Métodos: Envelhercer, engordar, emagrecer, crescer. Obs: Por padrão, a cada ano que nossa pessoa envelhece, sendo a idade dela menor que 21 anos, ela deve crescer 0,5 cm. "
   ]
  },
  {
   "cell_type": "code",
   "execution_count": 1,
   "id": "402e51a7",
   "metadata": {},
   "outputs": [],
   "source": [
    "class Pessoa:\n",
    "    def __init__(self, nome, idade, peso, altura):\n",
    "        self.nome = nome\n",
    "        self.idade = idade\n",
    "        self.peso = peso\n",
    "        self.altura = altura\n",
    "        \n",
    "    def envelhecer(self, anos = 1):\n",
    "        if self.idade < 21:\n",
    "            if self.idade +anos > 21:\n",
    "                self.altura += 0.5 * (self.idade + anos - 21)\n",
    "            else:\n",
    "                self.altura += 0.5 * anos\n",
    "                self.idade += anos\n",
    "        else:\n",
    "            self.idade += anos\n",
    "    \n",
    "    def engordar(self, kg = 1):\n",
    "        if kg < 0:\n",
    "            print('Não é possível engordar negativo. Emagreça.')\n",
    "        else:\n",
    "            self.peso += kg\n",
    "    \n",
    "    def emagrecer(self, kg = 1):\n",
    "        if kg <0:\n",
    "            print('Não é possível emagrecer negativo. Engorde.')\n",
    "        else:\n",
    "            self.peso -= kg\n",
    "            \n",
    "    def crescer(self, cm = 1):\n",
    "        self.altura += cm"
   ]
  },
  {
   "cell_type": "code",
   "execution_count": 3,
   "id": "f565f5db",
   "metadata": {},
   "outputs": [
    {
     "data": {
      "text/plain": [
       "76"
      ]
     },
     "execution_count": 3,
     "metadata": {},
     "output_type": "execute_result"
    }
   ],
   "source": [
    "Theo = Pessoa('Theo', 27, 73, 1.74)\n",
    "Theo.engordar(3)\n",
    "Theo.peso"
   ]
  },
  {
   "cell_type": "markdown",
   "id": "fa8e117e",
   "metadata": {},
   "source": [
    "Classe Conta Corrente: Crie uma classe para implementar uma conta corrente. A classe deve possuir os seguintes atributos: número da conta, nome do correntista e saldo. Os métodos são os seguintes: alterarNome, depósito e saque; No construtor, saldo é opcional, com valor default zero e os demais atributos são obrigatórios. "
   ]
  },
  {
   "cell_type": "code",
   "execution_count": null,
   "id": "55310995",
   "metadata": {},
   "outputs": [],
   "source": [
    "class ContaCorrente:\n",
    "    def __init__(self, num_conta, nome_correntista, saldo = 0):\n",
    "        self.num_conta = n_conta\n",
    "        self.nome_correntista = n_correntista\n",
    "        self.saldo = saldo\n",
    "        \n",
    "    def alterarNome(self, nome):\n",
    "        self.nome_correntista = nome\n",
    "    \n",
    "    def deposito(self, valor):\n",
    "        if valor < 0:\n",
    "            print('Não é possível depositar valores negativos.')\n",
    "            self.saldo += valor\n",
    "    \n",
    "    def saque(self, valor):\n",
    "        if saque > saldo:\n",
    "            print(f'Seu saldo é de {self.saldo}. Impossível sacar {valor}.')\n",
    "        else:\n",
    "            self.saldo -= valor"
   ]
  },
  {
   "cell_type": "markdown",
   "id": "faf0cb1c",
   "metadata": {},
   "source": [
    "Classe TV: Faça um programa que simule um televisor criando-o como um objeto. O usuário deve ser capaz de informar o número do canal e aumentar ou diminuir o volume. Certifique-se de que o número do canal e o nível do volume permanecem dentro de faixas válidas. "
   ]
  },
  {
   "cell_type": "code",
   "execution_count": 6,
   "id": "f9e52153",
   "metadata": {},
   "outputs": [],
   "source": [
    "class TV:\n",
    "    def __init__(self, canal = 1, volume = 0):\n",
    "        self.canal = canal\n",
    "        self.volume = volume\n",
    "        \n",
    "    def muda_canal_especifico(self, canal):\n",
    "        if 0< canal < 100:\n",
    "            self.canal = canal\n",
    "    \n",
    "    def aumenta_canal(self, valor = 1):\n",
    "        if not self.canal + valor > 99:\n",
    "            self.canal += valor\n",
    "            \n",
    "    def diminui_canal(self, valor = 1):\n",
    "        if not self.canal - valor:\n",
    "            self.canal -= valor\n",
    "            \n",
    "    def mostra_canal(self):\n",
    "        print(self.canal)\n",
    "        \n",
    "    def aumenta_volume(self, valor = 1):\n",
    "        if not self.volume + valor > 100:\n",
    "            self.volume += valor\n",
    "            \n",
    "    def diminui_volume(self, valor = 1):\n",
    "        if not self.volume - valor < 0:\n",
    "            self.volume -= valor"
   ]
  }
 ],
 "metadata": {
  "kernelspec": {
   "display_name": "Python 3 (ipykernel)",
   "language": "python",
   "name": "python3"
  },
  "language_info": {
   "codemirror_mode": {
    "name": "ipython",
    "version": 3
   },
   "file_extension": ".py",
   "mimetype": "text/x-python",
   "name": "python",
   "nbconvert_exporter": "python",
   "pygments_lexer": "ipython3",
   "version": "3.11.5"
  }
 },
 "nbformat": 4,
 "nbformat_minor": 5
}
